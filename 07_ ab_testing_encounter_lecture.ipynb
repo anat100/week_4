{
 "cells": [
  {
   "cell_type": "markdown",
   "id": "8292f957",
   "metadata": {},
   "source": [
    "## Warm up\n",
    "\n",
    "**Story one:**\n",
    "\n",
    "- A medical company is working on a new drug that is supossed to replace an old one\n",
    "- They recently discovered a new potential solution and they want to test if it works better\n",
    "- They don't know how to proceed so they asked you as a data analyst to help them\n",
    "- Firstly, you decide how to measure the performance of the drugs and you propose a metric to measure it. What metric could it be?\n",
    "- Then, you come up with an idea on how to assess which drug is better - present your strategy!\n",
    "\n",
    "\n",
    "**Story two:**\n",
    "\n",
    "- Spicy Shelter is an animal shelter organizes open house events because they want to promote adoption, they need more donations and volunteers.\n",
    "- In addition to their fb and insta account, they announce these events to thousands of supporters by their monthly info-email to in. \n",
    "- A few of the shelter's volunteers suggested to purchase an newsletter automatization account and design newsletters with cute animal photos and “I want to participate” button to replace . \n",
    "- The email automatization is not cheap but it gives 3 months free.\n",
    "- As a volunteer of the shelter you want to help to decide if this purchase will bring sth.\n",
    "- You decide how to measure the performance of two different options and you come up with an idea.\n",
    "\n",
    "\n"
   ]
  },
  {
   "cell_type": "markdown",
   "id": "e70e465a",
   "metadata": {},
   "source": [
    "## Hypothesis Testing \n",
    "\n",
    "Hypothesis testing is a group of statistical inference tests used to decide whether the data at hand sufficiently support a particular hypothesis. When we conduct A/B tests our objective is to decide, based on samples taken from two different groups (i.e. populations), whether the two groups are different or not. Hypothesis testing usually consist of these elements:\n",
    "\n",
    "### Hypotheses\n",
    "\n",
    "In hypothesis testing, we have two opposing theories about our data, called **hypotheses**. These hypotheses are:\n",
    "\n",
    "- Null Hypothesis $ H_{0} $: two metrics representing given two groups are equal. For example, the mean CTRs (click through rates) of the two ads A and B are equal, i.e. they do not perform differently\n",
    "- Alternative Hypothesis $ H_{1} $: two metrics of the two groups are unequal. For example, the mean CTR of ad B is higher than the mean CTR of ad A, i.e. ad B is performing better"
   ]
  },
  {
   "cell_type": "markdown",
   "id": "df6b0f04",
   "metadata": {},
   "source": [
    "#### P-value\n",
    "\n",
    "**P-value** is the probability of an observed result assuming that the null hypothesis is true. P-value will be checked against a chosen threshold to ensure the significance of our A/B test. We usually choose p-value thresholds $\\alpha$ of 10%, 5%, 1% for our hypothesis testing, whereas the most popular one is 5%. In short words, we want to have p-value as low as possible in order to reject the null hypothesis.\n",
    "\n",
    "### Calculation of the p-value and concluding your test\n",
    "\n",
    "The conclusion we make depends on the chosen parameters and the resulting p-value:\n",
    "\n",
    "1. if p-value >= $\\alpha$, then we **fail to reject** $ H_{0} $ and conclude that there is no difference between the metrics\n",
    "2. if p-value < $\\alpha$, then we **reject** $ H_{0} $ and conclude that the groups are indeed different. A very small p-value means that such an extreme observed outcome would be unlikely under the null hypothesis"
   ]
  },
  {
   "cell_type": "markdown",
   "id": "65d0cbbb",
   "metadata": {},
   "source": [
    "## Exercise: Parameters changes in a statistical test\n",
    "\n",
    "- How is the **p-value** in a t-test affected by (*hint*: use this [online calculator](https://www.medcalc.org/calc/comparison_of_means.php) to help you)\n",
    "  1. the difference between the means of the two groups\n",
    "  2. the variance (or the standard deviation) of the two samples\n",
    "  3. the size of the samples"
   ]
  },
  {
   "cell_type": "markdown",
   "id": "6bab3448",
   "metadata": {},
   "source": [
    "## Example - Comparing Penguins 🐧 \n",
    "\n",
    "Let's discover if there are significant differences in measures defining penguins (flipper_length and bill_length)"
   ]
  },
  {
   "cell_type": "code",
   "execution_count": 1,
   "id": "dd551f15",
   "metadata": {},
   "outputs": [],
   "source": [
    "# import needed packages\n",
    "\n",
    "import pandas as pd\n",
    "import scipy.stats as sps\n",
    "import seaborn as sns\n",
    "\n",
    "# scipy.stats contains:\n",
    "# - a large number of probability distributions,\n",
    "# - summary and frequency statistics, \n",
    "# - correlation functions and statistical tests and more "
   ]
  },
  {
   "cell_type": "code",
   "execution_count": 3,
   "id": "e4de46f5",
   "metadata": {
    "scrolled": true
   },
   "outputs": [
    {
     "data": {
      "text/html": [
       "<div>\n",
       "<style scoped>\n",
       "    .dataframe tbody tr th:only-of-type {\n",
       "        vertical-align: middle;\n",
       "    }\n",
       "\n",
       "    .dataframe tbody tr th {\n",
       "        vertical-align: top;\n",
       "    }\n",
       "\n",
       "    .dataframe thead th {\n",
       "        text-align: right;\n",
       "    }\n",
       "</style>\n",
       "<table border=\"1\" class=\"dataframe\">\n",
       "  <thead>\n",
       "    <tr style=\"text-align: right;\">\n",
       "      <th></th>\n",
       "      <th>species</th>\n",
       "      <th>island</th>\n",
       "      <th>bill_length_mm</th>\n",
       "      <th>bill_depth_mm</th>\n",
       "      <th>flipper_length_mm</th>\n",
       "      <th>body_mass_g</th>\n",
       "      <th>sex</th>\n",
       "    </tr>\n",
       "  </thead>\n",
       "  <tbody>\n",
       "    <tr>\n",
       "      <th>0</th>\n",
       "      <td>Adelie</td>\n",
       "      <td>Torgersen</td>\n",
       "      <td>39.1</td>\n",
       "      <td>18.7</td>\n",
       "      <td>181.0</td>\n",
       "      <td>3750.0</td>\n",
       "      <td>Male</td>\n",
       "    </tr>\n",
       "    <tr>\n",
       "      <th>1</th>\n",
       "      <td>Adelie</td>\n",
       "      <td>Torgersen</td>\n",
       "      <td>39.5</td>\n",
       "      <td>17.4</td>\n",
       "      <td>186.0</td>\n",
       "      <td>3800.0</td>\n",
       "      <td>Female</td>\n",
       "    </tr>\n",
       "    <tr>\n",
       "      <th>2</th>\n",
       "      <td>Adelie</td>\n",
       "      <td>Torgersen</td>\n",
       "      <td>40.3</td>\n",
       "      <td>18.0</td>\n",
       "      <td>195.0</td>\n",
       "      <td>3250.0</td>\n",
       "      <td>Female</td>\n",
       "    </tr>\n",
       "    <tr>\n",
       "      <th>3</th>\n",
       "      <td>Adelie</td>\n",
       "      <td>Torgersen</td>\n",
       "      <td>NaN</td>\n",
       "      <td>NaN</td>\n",
       "      <td>NaN</td>\n",
       "      <td>NaN</td>\n",
       "      <td>NaN</td>\n",
       "    </tr>\n",
       "    <tr>\n",
       "      <th>4</th>\n",
       "      <td>Adelie</td>\n",
       "      <td>Torgersen</td>\n",
       "      <td>36.7</td>\n",
       "      <td>19.3</td>\n",
       "      <td>193.0</td>\n",
       "      <td>3450.0</td>\n",
       "      <td>Female</td>\n",
       "    </tr>\n",
       "    <tr>\n",
       "      <th>...</th>\n",
       "      <td>...</td>\n",
       "      <td>...</td>\n",
       "      <td>...</td>\n",
       "      <td>...</td>\n",
       "      <td>...</td>\n",
       "      <td>...</td>\n",
       "      <td>...</td>\n",
       "    </tr>\n",
       "    <tr>\n",
       "      <th>339</th>\n",
       "      <td>Gentoo</td>\n",
       "      <td>Biscoe</td>\n",
       "      <td>NaN</td>\n",
       "      <td>NaN</td>\n",
       "      <td>NaN</td>\n",
       "      <td>NaN</td>\n",
       "      <td>NaN</td>\n",
       "    </tr>\n",
       "    <tr>\n",
       "      <th>340</th>\n",
       "      <td>Gentoo</td>\n",
       "      <td>Biscoe</td>\n",
       "      <td>46.8</td>\n",
       "      <td>14.3</td>\n",
       "      <td>215.0</td>\n",
       "      <td>4850.0</td>\n",
       "      <td>Female</td>\n",
       "    </tr>\n",
       "    <tr>\n",
       "      <th>341</th>\n",
       "      <td>Gentoo</td>\n",
       "      <td>Biscoe</td>\n",
       "      <td>50.4</td>\n",
       "      <td>15.7</td>\n",
       "      <td>222.0</td>\n",
       "      <td>5750.0</td>\n",
       "      <td>Male</td>\n",
       "    </tr>\n",
       "    <tr>\n",
       "      <th>342</th>\n",
       "      <td>Gentoo</td>\n",
       "      <td>Biscoe</td>\n",
       "      <td>45.2</td>\n",
       "      <td>14.8</td>\n",
       "      <td>212.0</td>\n",
       "      <td>5200.0</td>\n",
       "      <td>Female</td>\n",
       "    </tr>\n",
       "    <tr>\n",
       "      <th>343</th>\n",
       "      <td>Gentoo</td>\n",
       "      <td>Biscoe</td>\n",
       "      <td>49.9</td>\n",
       "      <td>16.1</td>\n",
       "      <td>213.0</td>\n",
       "      <td>5400.0</td>\n",
       "      <td>Male</td>\n",
       "    </tr>\n",
       "  </tbody>\n",
       "</table>\n",
       "<p>344 rows × 7 columns</p>\n",
       "</div>"
      ],
      "text/plain": [
       "    species     island  bill_length_mm  bill_depth_mm  flipper_length_mm   \n",
       "0    Adelie  Torgersen            39.1           18.7              181.0  \\\n",
       "1    Adelie  Torgersen            39.5           17.4              186.0   \n",
       "2    Adelie  Torgersen            40.3           18.0              195.0   \n",
       "3    Adelie  Torgersen             NaN            NaN                NaN   \n",
       "4    Adelie  Torgersen            36.7           19.3              193.0   \n",
       "..      ...        ...             ...            ...                ...   \n",
       "339  Gentoo     Biscoe             NaN            NaN                NaN   \n",
       "340  Gentoo     Biscoe            46.8           14.3              215.0   \n",
       "341  Gentoo     Biscoe            50.4           15.7              222.0   \n",
       "342  Gentoo     Biscoe            45.2           14.8              212.0   \n",
       "343  Gentoo     Biscoe            49.9           16.1              213.0   \n",
       "\n",
       "     body_mass_g     sex  \n",
       "0         3750.0    Male  \n",
       "1         3800.0  Female  \n",
       "2         3250.0  Female  \n",
       "3            NaN     NaN  \n",
       "4         3450.0  Female  \n",
       "..           ...     ...  \n",
       "339          NaN     NaN  \n",
       "340       4850.0  Female  \n",
       "341       5750.0    Male  \n",
       "342       5200.0  Female  \n",
       "343       5400.0    Male  \n",
       "\n",
       "[344 rows x 7 columns]"
      ]
     },
     "execution_count": 3,
     "metadata": {},
     "output_type": "execute_result"
    }
   ],
   "source": [
    "# read penguins dataset\n",
    "\n",
    "penguins = sns.load_dataset(name='penguins')\n",
    "penguins"
   ]
  },
  {
   "cell_type": "code",
   "execution_count": 4,
   "id": "fd7b57ec",
   "metadata": {},
   "outputs": [
    {
     "data": {
      "text/plain": [
       "<Axes: xlabel='species', ylabel='body_mass_g'>"
      ]
     },
     "execution_count": 4,
     "metadata": {},
     "output_type": "execute_result"
    },
    {
     "data": {
      "image/png": "[encoded data removed]",
      "text/plain": [
       "<Figure size 640x480 with 1 Axes>"
      ]
     },
     "metadata": {},
     "output_type": "display_data"
    }
   ],
   "source": [
    "# Visually explore the data \n",
    "# Create a boxplot\n",
    "\n",
    "sns.boxplot(data=penguins, x='species', y='body_mass_g')"
   ]
  },
  {
   "cell_type": "code",
   "execution_count": 5,
   "id": "d3ff2d2a",
   "metadata": {},
   "outputs": [
    {
     "data": {
      "image/png": "[encoded data removed]",
      "text/plain": [
       "<Figure size 617x500 with 1 Axes>"
      ]
     },
     "metadata": {},
     "output_type": "display_data"
    }
   ],
   "source": [
    "# Create a distplot\n",
    "\n",
    "sns.displot(data=penguins, x='body_mass_g', hue='species', kind='kde');\n"
   ]
  },
  {
   "cell_type": "code",
   "execution_count": 6,
   "id": "64c5a9b3",
   "metadata": {},
   "outputs": [],
   "source": [
    "# create 3 datasets - each of them representing one of the species\n",
    "chinstraps = penguins[penguins['species'] == 'Chinstrap']\n",
    "adelies = penguins[penguins['species'] == 'Adelie']\n",
    "gentoos = penguins[penguins['species'] == 'Gentoo']"
   ]
  },
  {
   "cell_type": "markdown",
   "id": "9069a548",
   "metadata": {},
   "source": [
    "### 1- Adelies vs Chinstraps"
   ]
  },
  {
   "cell_type": "code",
   "execution_count": 7,
   "id": "db181cfa",
   "metadata": {},
   "outputs": [
    {
     "data": {
      "text/plain": [
       "Ttest_indResult(statistic=-0.5430902472363278, pvalue=0.5878608159584937)"
      ]
     },
     "execution_count": 7,
     "metadata": {},
     "output_type": "execute_result"
    }
   ],
   "source": [
    "# With the help of scipy.stats perform a t test checking if there is a significant difference between the penguins\n",
    "\n",
    "\n",
    "sps.ttest_ind(adelies['body_mass_g'],chinstraps['body_mass_g'], nan_policy='omit', equal_var=False)\n",
    "\n",
    "# nan_policy='omit' Do not generate a warning if the input contains nan!\n",
    "# equal_var = “True”: The standard independent two sample t-test will be conducted by taking into consideration \n",
    "# the equal population variances. \n",
    "#equal_var = “False”: The Welch's t-test will be conducted by not taking into consideration the equal population variances\n"
   ]
  },
  {
   "cell_type": "markdown",
   "id": "04c24808",
   "metadata": {},
   "source": [
    "#### here since our pvalue is greater than Alpha 5% we FAIL TO REJECT that the body mass are the same"
   ]
  },
  {
   "cell_type": "markdown",
   "id": "1c562292",
   "metadata": {},
   "source": [
    "### 2- Gentoos vs Chinstraps"
   ]
  },
  {
   "cell_type": "code",
   "execution_count": 8,
   "id": "ced0fbb3",
   "metadata": {},
   "outputs": [
    {
     "data": {
      "text/plain": [
       "Ttest_indResult(statistic=20.627794010997135, pvalue=3.4139631460261665e-48)"
      ]
     },
     "execution_count": 8,
     "metadata": {},
     "output_type": "execute_result"
    }
   ],
   "source": [
    "# here since our pvalue is less than Alpha 5% we REJECT that the body mass are the same\n",
    "\n",
    "sps.ttest_ind(gentoos['body_mass_g'],chinstraps['body_mass_g'], nan_policy='omit', equal_var=False)"
   ]
  },
  {
   "cell_type": "markdown",
   "id": "c87de077",
   "metadata": {},
   "source": [
    "### 3- Gentoos vs Adelies"
   ]
  },
  {
   "cell_type": "code",
   "execution_count": 9,
   "id": "c6e0549d",
   "metadata": {},
   "outputs": [
    {
     "data": {
      "text/plain": [
       "Ttest_indResult(statistic=23.38602766996551, pvalue=7.709823145147335e-65)"
      ]
     },
     "execution_count": 9,
     "metadata": {},
     "output_type": "execute_result"
    }
   ],
   "source": [
    "# here since our pvalue is less than Alpha 5% we REJECT that the body mass are the same\n",
    "\n",
    "sps.ttest_ind(gentoos['body_mass_g'],adelies['body_mass_g'], nan_policy='omit', equal_var=False)"
   ]
  },
  {
   "cell_type": "code",
   "execution_count": null,
   "id": "b8e6b1e0",
   "metadata": {},
   "outputs": [],
   "source": [
    "#Let's check the means"
   ]
  },
  {
   "cell_type": "code",
   "execution_count": 10,
   "id": "e72e6963",
   "metadata": {},
   "outputs": [
    {
     "data": {
      "text/plain": [
       "5076.016260162602"
      ]
     },
     "execution_count": 10,
     "metadata": {},
     "output_type": "execute_result"
    }
   ],
   "source": [
    "gentoos['body_mass_g'].mean()"
   ]
  },
  {
   "cell_type": "code",
   "execution_count": 11,
   "id": "c8fee3ef",
   "metadata": {},
   "outputs": [
    {
     "data": {
      "text/plain": [
       "3733.0882352941176"
      ]
     },
     "execution_count": 11,
     "metadata": {},
     "output_type": "execute_result"
    }
   ],
   "source": [
    "chinstraps['body_mass_g'].mean()"
   ]
  },
  {
   "cell_type": "code",
   "execution_count": 12,
   "id": "55ea59f8",
   "metadata": {},
   "outputs": [
    {
     "data": {
      "text/plain": [
       "3700.662251655629"
      ]
     },
     "execution_count": 12,
     "metadata": {},
     "output_type": "execute_result"
    }
   ],
   "source": [
    "adelies['body_mass_g'].mean()"
   ]
  },
  {
   "cell_type": "code",
   "execution_count": null,
   "id": "82ccd1c6",
   "metadata": {},
   "outputs": [],
   "source": []
  }
 ],
 "metadata": {
  "kernelspec": {
   "display_name": "Python 3 (ipykernel)",
   "language": "python",
   "name": "python3"
  },
  "language_info": {
   "codemirror_mode": {
    "name": "ipython",
    "version": 3
   },
   "file_extension": ".py",
   "mimetype": "text/x-python",
   "name": "python",
   "nbconvert_exporter": "python",
   "pygments_lexer": "ipython3",
   "version": "3.11.4"
  }
 },
 "nbformat": 4,
 "nbformat_minor": 5
}
