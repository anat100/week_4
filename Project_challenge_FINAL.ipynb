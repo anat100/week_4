{
 "cells": [
  {
   "cell_type": "code",
   "execution_count": 58,
   "id": "964f99f9",
   "metadata": {},
   "outputs": [],
   "source": [
    "import numpy as np\n",
    "import pandas as pd\n",
    "from scipy.stats import ttest_ind\n",
    "import seaborn as sns\n",
    "import matplotlib.pyplot as plt\n",
    "from scipy import stats"
   ]
  },
  {
   "cell_type": "markdown",
   "id": "9ae1a254",
   "metadata": {},
   "source": [
    "- The null hypothesis (H0) is that the true difference between these group means is zero.\n",
    "- The alternate hypothesis (Ha) is that the true difference is different from zero."
   ]
  },
  {
   "cell_type": "markdown",
   "id": "90b4c44c",
   "metadata": {},
   "source": [
    "## About the data\n",
    "A fast-food chain plans to add a new item to its menu. However, they are still undecided between three possible marketing campaigns for promoting the new product. In order to determine which promotion has the greatest effect on sales, the new item is introduced at locations in several randomly selected markets. A different promotion is used at each location, and the weekly sales of the new item are recorded for the first four weeks.\n",
    "\n",
    "## Goal\n",
    "Evaluate A/B testing results from this dataset and decide which marketing strategy works the best and has statistically significant differences among the test groups.\n",
    "\n",
    "## My null hypothesis (H0): \n",
    "The marketing campaign options (Option 1, Option 2, and Option 3) have no significant impact on the consumption of the new product. Any observed differences in conversion rates among the options are due to random variability."
   ]
  },
  {
   "cell_type": "code",
   "execution_count": 2,
   "id": "f7f4ad2a",
   "metadata": {},
   "outputs": [],
   "source": [
    "df = pd.read_csv('WA_Marketing-Campaign.csv')"
   ]
  },
  {
   "cell_type": "code",
   "execution_count": null,
   "id": "24849898",
   "metadata": {},
   "outputs": [],
   "source": []
  },
  {
   "cell_type": "code",
   "execution_count": 3,
   "id": "91e0ce47",
   "metadata": {},
   "outputs": [
    {
     "data": {
      "text/html": [
       "<div>\n",
       "<style scoped>\n",
       "    .dataframe tbody tr th:only-of-type {\n",
       "        vertical-align: middle;\n",
       "    }\n",
       "\n",
       "    .dataframe tbody tr th {\n",
       "        vertical-align: top;\n",
       "    }\n",
       "\n",
       "    .dataframe thead th {\n",
       "        text-align: right;\n",
       "    }\n",
       "</style>\n",
       "<table border=\"1\" class=\"dataframe\">\n",
       "  <thead>\n",
       "    <tr style=\"text-align: right;\">\n",
       "      <th></th>\n",
       "      <th>MarketID</th>\n",
       "      <th>MarketSize</th>\n",
       "      <th>LocationID</th>\n",
       "      <th>AgeOfStore</th>\n",
       "      <th>Promotion</th>\n",
       "      <th>week</th>\n",
       "      <th>SalesInThousands</th>\n",
       "    </tr>\n",
       "  </thead>\n",
       "  <tbody>\n",
       "    <tr>\n",
       "      <th>0</th>\n",
       "      <td>1</td>\n",
       "      <td>Medium</td>\n",
       "      <td>1</td>\n",
       "      <td>4</td>\n",
       "      <td>3</td>\n",
       "      <td>1</td>\n",
       "      <td>33.73</td>\n",
       "    </tr>\n",
       "    <tr>\n",
       "      <th>1</th>\n",
       "      <td>1</td>\n",
       "      <td>Medium</td>\n",
       "      <td>1</td>\n",
       "      <td>4</td>\n",
       "      <td>3</td>\n",
       "      <td>2</td>\n",
       "      <td>35.67</td>\n",
       "    </tr>\n",
       "    <tr>\n",
       "      <th>2</th>\n",
       "      <td>1</td>\n",
       "      <td>Medium</td>\n",
       "      <td>1</td>\n",
       "      <td>4</td>\n",
       "      <td>3</td>\n",
       "      <td>3</td>\n",
       "      <td>29.03</td>\n",
       "    </tr>\n",
       "    <tr>\n",
       "      <th>3</th>\n",
       "      <td>1</td>\n",
       "      <td>Medium</td>\n",
       "      <td>1</td>\n",
       "      <td>4</td>\n",
       "      <td>3</td>\n",
       "      <td>4</td>\n",
       "      <td>39.25</td>\n",
       "    </tr>\n",
       "    <tr>\n",
       "      <th>4</th>\n",
       "      <td>1</td>\n",
       "      <td>Medium</td>\n",
       "      <td>2</td>\n",
       "      <td>5</td>\n",
       "      <td>2</td>\n",
       "      <td>1</td>\n",
       "      <td>27.81</td>\n",
       "    </tr>\n",
       "    <tr>\n",
       "      <th>...</th>\n",
       "      <td>...</td>\n",
       "      <td>...</td>\n",
       "      <td>...</td>\n",
       "      <td>...</td>\n",
       "      <td>...</td>\n",
       "      <td>...</td>\n",
       "      <td>...</td>\n",
       "    </tr>\n",
       "    <tr>\n",
       "      <th>543</th>\n",
       "      <td>10</td>\n",
       "      <td>Large</td>\n",
       "      <td>919</td>\n",
       "      <td>2</td>\n",
       "      <td>1</td>\n",
       "      <td>4</td>\n",
       "      <td>64.34</td>\n",
       "    </tr>\n",
       "    <tr>\n",
       "      <th>544</th>\n",
       "      <td>10</td>\n",
       "      <td>Large</td>\n",
       "      <td>920</td>\n",
       "      <td>14</td>\n",
       "      <td>2</td>\n",
       "      <td>1</td>\n",
       "      <td>50.20</td>\n",
       "    </tr>\n",
       "    <tr>\n",
       "      <th>545</th>\n",
       "      <td>10</td>\n",
       "      <td>Large</td>\n",
       "      <td>920</td>\n",
       "      <td>14</td>\n",
       "      <td>2</td>\n",
       "      <td>2</td>\n",
       "      <td>45.75</td>\n",
       "    </tr>\n",
       "    <tr>\n",
       "      <th>546</th>\n",
       "      <td>10</td>\n",
       "      <td>Large</td>\n",
       "      <td>920</td>\n",
       "      <td>14</td>\n",
       "      <td>2</td>\n",
       "      <td>3</td>\n",
       "      <td>44.29</td>\n",
       "    </tr>\n",
       "    <tr>\n",
       "      <th>547</th>\n",
       "      <td>10</td>\n",
       "      <td>Large</td>\n",
       "      <td>920</td>\n",
       "      <td>14</td>\n",
       "      <td>2</td>\n",
       "      <td>4</td>\n",
       "      <td>49.41</td>\n",
       "    </tr>\n",
       "  </tbody>\n",
       "</table>\n",
       "<p>548 rows × 7 columns</p>\n",
       "</div>"
      ],
      "text/plain": [
       "     MarketID MarketSize  LocationID  AgeOfStore  Promotion  week  \\\n",
       "0           1     Medium           1           4          3     1   \n",
       "1           1     Medium           1           4          3     2   \n",
       "2           1     Medium           1           4          3     3   \n",
       "3           1     Medium           1           4          3     4   \n",
       "4           1     Medium           2           5          2     1   \n",
       "..        ...        ...         ...         ...        ...   ...   \n",
       "543        10      Large         919           2          1     4   \n",
       "544        10      Large         920          14          2     1   \n",
       "545        10      Large         920          14          2     2   \n",
       "546        10      Large         920          14          2     3   \n",
       "547        10      Large         920          14          2     4   \n",
       "\n",
       "     SalesInThousands  \n",
       "0               33.73  \n",
       "1               35.67  \n",
       "2               29.03  \n",
       "3               39.25  \n",
       "4               27.81  \n",
       "..                ...  \n",
       "543             64.34  \n",
       "544             50.20  \n",
       "545             45.75  \n",
       "546             44.29  \n",
       "547             49.41  \n",
       "\n",
       "[548 rows x 7 columns]"
      ]
     },
     "execution_count": 3,
     "metadata": {},
     "output_type": "execute_result"
    }
   ],
   "source": [
    "df"
   ]
  },
  {
   "cell_type": "code",
   "execution_count": 63,
   "id": "25e5ec46",
   "metadata": {},
   "outputs": [],
   "source": [
    "# Grouping by the \"Promotion\" column\n",
    "grouped_promotion = df.groupby('Promotion')"
   ]
  },
  {
   "cell_type": "code",
   "execution_count": 65,
   "id": "b1e97326",
   "metadata": {},
   "outputs": [
    {
     "name": "stdout",
     "output_type": "stream",
     "text": [
      "\n",
      "Sum of Sales:\n",
      "Promotion\n",
      "1     9993.03\n",
      "2     8897.93\n",
      "3    10408.52\n",
      "Name: SalesInThousands, dtype: float64\n"
     ]
    }
   ],
   "source": [
    "# Calculating aggregate functions on grouped data\n",
    "\n",
    "sum_sales = grouped_promotion['SalesInThousands'].sum() \n",
    "print(\"\\nSum of Sales:\")\n",
    "print(sum_sales)\n"
   ]
  },
  {
   "cell_type": "code",
   "execution_count": 66,
   "id": "a73d158e",
   "metadata": {},
   "outputs": [],
   "source": [
    "index_df = pd.DataFrame(sum_sales)"
   ]
  },
  {
   "cell_type": "code",
   "execution_count": 67,
   "id": "185e9627",
   "metadata": {},
   "outputs": [
    {
     "data": {
      "text/html": [
       "<div>\n",
       "<style scoped>\n",
       "    .dataframe tbody tr th:only-of-type {\n",
       "        vertical-align: middle;\n",
       "    }\n",
       "\n",
       "    .dataframe tbody tr th {\n",
       "        vertical-align: top;\n",
       "    }\n",
       "\n",
       "    .dataframe thead th {\n",
       "        text-align: right;\n",
       "    }\n",
       "</style>\n",
       "<table border=\"1\" class=\"dataframe\">\n",
       "  <thead>\n",
       "    <tr style=\"text-align: right;\">\n",
       "      <th></th>\n",
       "      <th>SalesInThousands</th>\n",
       "    </tr>\n",
       "    <tr>\n",
       "      <th>Promotion</th>\n",
       "      <th></th>\n",
       "    </tr>\n",
       "  </thead>\n",
       "  <tbody>\n",
       "    <tr>\n",
       "      <th>1</th>\n",
       "      <td>9993.03</td>\n",
       "    </tr>\n",
       "    <tr>\n",
       "      <th>2</th>\n",
       "      <td>8897.93</td>\n",
       "    </tr>\n",
       "    <tr>\n",
       "      <th>3</th>\n",
       "      <td>10408.52</td>\n",
       "    </tr>\n",
       "  </tbody>\n",
       "</table>\n",
       "</div>"
      ],
      "text/plain": [
       "           SalesInThousands\n",
       "Promotion                  \n",
       "1                   9993.03\n",
       "2                   8897.93\n",
       "3                  10408.52"
      ]
     },
     "execution_count": 67,
     "metadata": {},
     "output_type": "execute_result"
    }
   ],
   "source": [
    "index_df"
   ]
  },
  {
   "cell_type": "code",
   "execution_count": 68,
   "id": "53737745",
   "metadata": {},
   "outputs": [],
   "source": [
    "new_column_names = {'SalesInThousands': 'Total_sales'}\n",
    "index_df.rename(columns=new_column_names, inplace=True)"
   ]
  },
  {
   "cell_type": "code",
   "execution_count": 69,
   "id": "41e65b95",
   "metadata": {},
   "outputs": [
    {
     "data": {
      "text/html": [
       "<div>\n",
       "<style scoped>\n",
       "    .dataframe tbody tr th:only-of-type {\n",
       "        vertical-align: middle;\n",
       "    }\n",
       "\n",
       "    .dataframe tbody tr th {\n",
       "        vertical-align: top;\n",
       "    }\n",
       "\n",
       "    .dataframe thead th {\n",
       "        text-align: right;\n",
       "    }\n",
       "</style>\n",
       "<table border=\"1\" class=\"dataframe\">\n",
       "  <thead>\n",
       "    <tr style=\"text-align: right;\">\n",
       "      <th></th>\n",
       "      <th>Total_sales</th>\n",
       "    </tr>\n",
       "    <tr>\n",
       "      <th>Promotion</th>\n",
       "      <th></th>\n",
       "    </tr>\n",
       "  </thead>\n",
       "  <tbody>\n",
       "    <tr>\n",
       "      <th>1</th>\n",
       "      <td>9993.03</td>\n",
       "    </tr>\n",
       "    <tr>\n",
       "      <th>2</th>\n",
       "      <td>8897.93</td>\n",
       "    </tr>\n",
       "    <tr>\n",
       "      <th>3</th>\n",
       "      <td>10408.52</td>\n",
       "    </tr>\n",
       "  </tbody>\n",
       "</table>\n",
       "</div>"
      ],
      "text/plain": [
       "           Total_sales\n",
       "Promotion             \n",
       "1              9993.03\n",
       "2              8897.93\n",
       "3             10408.52"
      ]
     },
     "execution_count": 69,
     "metadata": {},
     "output_type": "execute_result"
    }
   ],
   "source": [
    "index_df"
   ]
  },
  {
   "cell_type": "code",
   "execution_count": 70,
   "id": "7434726b",
   "metadata": {},
   "outputs": [],
   "source": [
    "overall_total_sum_sales = index_df['Total_sales'].sum()"
   ]
  },
  {
   "cell_type": "code",
   "execution_count": 71,
   "id": "14b2db68",
   "metadata": {},
   "outputs": [
    {
     "data": {
      "text/plain": [
       "29299.48"
      ]
     },
     "execution_count": 71,
     "metadata": {},
     "output_type": "execute_result"
    }
   ],
   "source": [
    "overall_total_sum_sales"
   ]
  },
  {
   "cell_type": "markdown",
   "id": "7fa9b54a",
   "metadata": {},
   "source": [
    "# Plot: "
   ]
  },
  {
   "cell_type": "code",
   "execution_count": 72,
   "id": "922f60ca",
   "metadata": {},
   "outputs": [
    {
     "data": {
      "image/png": "[encoded data removed]",
      "text/plain": [
       "<Figure size 400x500 with 1 Axes>"
      ]
     },
     "metadata": {},
     "output_type": "display_data"
    }
   ],
   "source": [
    "# Calculate percentage sales\n",
    "index_df['Percentage'] = (index_df['Total_sales'] / overall_total_sum_sales) * 100\n",
    "\n",
    "# Create a pie chart using Matplotlib\n",
    "plt.figure(figsize=(4, 5))\n",
    "\n",
    "\n",
    "# Extract labels and values for the pie chart\n",
    "labels = index_df.index\n",
    "values = index_df['Percentage']\n",
    "\n",
    "plt.pie(values, labels=labels, autopct='%1.1f%%', startangle=140)\n",
    "plt.axis('equal')  # Equal aspect ratio ensures that pie is drawn as a circle.\n",
    "\n",
    "plt.title('Total % of Sales Distribution by Promotiom')\n",
    "plt.show()"
   ]
  },
  {
   "cell_type": "markdown",
   "id": "c43621eb",
   "metadata": {},
   "source": [
    "### As we can see from this chart, the promotion  3 has the largest aggregate sales amount (35.5%). However, each promotion group takes roughly one third of the total sales during the promotion weeks and there is a different between each market size that sales were occurring in."
   ]
  },
  {
   "cell_type": "markdown",
   "id": "c2184dc3",
   "metadata": {},
   "source": [
    "## Let's look at the market sizes in each promotion group.\n",
    "\n"
   ]
  },
  {
   "cell_type": "code",
   "execution_count": 73,
   "id": "1e9be427",
   "metadata": {},
   "outputs": [],
   "source": [
    "# Grouping by \"MarketSize\" and \"Promotion\" columns\n",
    "# grouped_market = df.groupby(['MarketSize', 'Promotion'])"
   ]
  },
  {
   "cell_type": "code",
   "execution_count": 74,
   "id": "69f020d7",
   "metadata": {},
   "outputs": [
    {
     "data": {
      "image/png": "[encoded data removed]",
      "text/plain": [
       "<Figure size 1000x600 with 1 Axes>"
      ]
     },
     "metadata": {},
     "output_type": "display_data"
    }
   ],
   "source": [
    "# Create a bar plot using Seaborn's geom_bar\n",
    "plt.figure(figsize=(10, 6))\n",
    "sns.set(style=\"whitegrid\")\n",
    "\n",
    "ax = sns.countplot(data=df, x='MarketSize', hue='Promotion', palette=\"Set2\")\n",
    "\n",
    "# Adding legend\n",
    "handles, labels = ax.get_legend_handles_labels()\n",
    "ax.legend(handles, labels)\n",
    "\n",
    "plt.title('Market Size Distribution across Promotions')\n",
    "plt.xlabel('Market Size')\n",
    "plt.ylabel('Promotion count')\n",
    "\n",
    "plt.show()"
   ]
  },
  {
   "cell_type": "markdown",
   "id": "dae00747",
   "metadata": {},
   "source": [
    "### Here we see that the medium market size occupies the most among all three promotion groups, while the small market size occupies the least."
   ]
  },
  {
   "cell_type": "markdown",
   "id": "8129e260",
   "metadata": {},
   "source": [
    "# Let's run a t-test"
   ]
  },
  {
   "cell_type": "code",
   "execution_count": 99,
   "id": "fa562b27",
   "metadata": {},
   "outputs": [],
   "source": [
    "# Separate the sales data for each promotion\n",
    "sales_promo_1 = df[df['Promotion'] == 1]['SalesInThousands']\n",
    "sales_promo_2 = df[df['Promotion'] == 2]['SalesInThousands']\n",
    "sales_promo_3 = df[df['Promotion'] == 3]['SalesInThousands']"
   ]
  },
  {
   "cell_type": "code",
   "execution_count": 100,
   "id": "bbfd8e31",
   "metadata": {},
   "outputs": [
    {
     "name": "stdout",
     "output_type": "stream",
     "text": [
      "T-Statistic: 6.453671702181005\n",
      "P-Value: 3.5506696512134566e-10\n",
      "Reject the null hypothesis: There is a significant difference between the two promotions.\n"
     ]
    }
   ],
   "source": [
    "# Print t-test results\n",
    "print(\"T-Statistic:\", t_statistic)\n",
    "print(\"P-Value:\", p_value)\n",
    "\n",
    "# Perform t-test\n",
    "t_statistic, p_value = stats.ttest_ind(sales_promo_1, sales_promo_2)\n",
    "\n",
    "# Determine the significance level (usually 0.05)\n",
    "alpha = 0.05\n",
    "\n",
    "# Check if p-value is less than alpha\n",
    "if p_value < alpha:\n",
    "    print(\"Reject the null hypothesis: There is a significant difference between the two promotions.\")\n",
    "else:\n",
    "    print(\"Fail to reject the null hypothesis: There is no significant difference between the two promotions.\")"
   ]
  },
  {
   "cell_type": "markdown",
   "id": "a22ed98f",
   "metadata": {},
   "source": [
    "###  We got the t-value of 6.453 and p-value of 3.550e-10 (which is an extremely small number) that suggest that there is strong evidence against the null hypothesis and that the difference between promotion 1 and promotion 2 is significant and promotion 1 outperform promotion 2"
   ]
  },
  {
   "cell_type": "markdown",
   "id": "3657effd",
   "metadata": {},
   "source": [
    "## Results:\n",
    "We got the t-value of 6.453 and p-value of 3.550e-10 (which is an extremely small number) that suggest that there is strong evidence against the null hypothesis and that the difference between promotion 1 and promotion 2 is significant and promotion 1 outperform promotion 2.\n",
    "\n",
    "### Reject the null hypothesis - There is a significant difference between promo 1 and promo 2"
   ]
  },
  {
   "cell_type": "code",
   "execution_count": null,
   "id": "67af9e20",
   "metadata": {},
   "outputs": [],
   "source": []
  }
 ],
 "metadata": {
  "kernelspec": {
   "display_name": "Python 3 (ipykernel)",
   "language": "python",
   "name": "python3"
  },
  "language_info": {
   "codemirror_mode": {
    "name": "ipython",
    "version": 3
   },
   "file_extension": ".py",
   "mimetype": "text/x-python",
   "name": "python",
   "nbconvert_exporter": "python",
   "pygments_lexer": "ipython3",
   "version": "3.11.4"
  }
 },
 "nbformat": 4,
 "nbformat_minor": 5
}
