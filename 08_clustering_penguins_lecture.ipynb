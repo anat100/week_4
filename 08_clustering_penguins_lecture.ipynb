{
 "cells": [
  {
   "cell_type": "markdown",
   "id": "63eddb09",
   "metadata": {},
   "source": [
    "## Clustering 📦📦📦"
   ]
  },
  {
   "cell_type": "markdown",
   "id": "b3a59a7f",
   "metadata": {},
   "source": [
    "#### Import the libraries"
   ]
  },
  {
   "cell_type": "code",
   "execution_count": 1,
   "id": "af7d7917",
   "metadata": {},
   "outputs": [],
   "source": [
    "import numpy as np\n",
    "import pandas as pd\n",
    "#scikit is an open source data analysis library, and the gold standard for Machine Learning\n",
    "from sklearn.preprocessing import StandardScaler\n",
    "from sklearn.cluster import KMeans\n",
    "import matplotlib.pyplot as plt\n",
    "%matplotlib inline\n",
    "import seaborn as sns"
   ]
  },
  {
   "cell_type": "markdown",
   "id": "0fed0805",
   "metadata": {},
   "source": [
    "#### 1. Read the data"
   ]
  },
  {
   "cell_type": "code",
   "execution_count": 4,
   "id": "3283b228",
   "metadata": {},
   "outputs": [
    {
     "data": {
      "text/html": [
       "<div>\n",
       "<style scoped>\n",
       "    .dataframe tbody tr th:only-of-type {\n",
       "        vertical-align: middle;\n",
       "    }\n",
       "\n",
       "    .dataframe tbody tr th {\n",
       "        vertical-align: top;\n",
       "    }\n",
       "\n",
       "    .dataframe thead th {\n",
       "        text-align: right;\n",
       "    }\n",
       "</style>\n",
       "<table border=\"1\" class=\"dataframe\">\n",
       "  <thead>\n",
       "    <tr style=\"text-align: right;\">\n",
       "      <th></th>\n",
       "      <th>species</th>\n",
       "      <th>bill_length_mm</th>\n",
       "      <th>bill_depth_mm</th>\n",
       "      <th>flipper_length_mm</th>\n",
       "      <th>body_mass_g</th>\n",
       "    </tr>\n",
       "  </thead>\n",
       "  <tbody>\n",
       "    <tr>\n",
       "      <th>0</th>\n",
       "      <td>Adelie</td>\n",
       "      <td>39.1</td>\n",
       "      <td>18.7</td>\n",
       "      <td>181.0</td>\n",
       "      <td>3750.0</td>\n",
       "    </tr>\n",
       "    <tr>\n",
       "      <th>1</th>\n",
       "      <td>Adelie</td>\n",
       "      <td>39.5</td>\n",
       "      <td>17.4</td>\n",
       "      <td>186.0</td>\n",
       "      <td>3800.0</td>\n",
       "    </tr>\n",
       "    <tr>\n",
       "      <th>2</th>\n",
       "      <td>Adelie</td>\n",
       "      <td>40.3</td>\n",
       "      <td>18.0</td>\n",
       "      <td>195.0</td>\n",
       "      <td>3250.0</td>\n",
       "    </tr>\n",
       "    <tr>\n",
       "      <th>3</th>\n",
       "      <td>Adelie</td>\n",
       "      <td>36.7</td>\n",
       "      <td>19.3</td>\n",
       "      <td>193.0</td>\n",
       "      <td>3450.0</td>\n",
       "    </tr>\n",
       "    <tr>\n",
       "      <th>4</th>\n",
       "      <td>Adelie</td>\n",
       "      <td>39.3</td>\n",
       "      <td>20.6</td>\n",
       "      <td>190.0</td>\n",
       "      <td>3650.0</td>\n",
       "    </tr>\n",
       "    <tr>\n",
       "      <th>...</th>\n",
       "      <td>...</td>\n",
       "      <td>...</td>\n",
       "      <td>...</td>\n",
       "      <td>...</td>\n",
       "      <td>...</td>\n",
       "    </tr>\n",
       "    <tr>\n",
       "      <th>301</th>\n",
       "      <td>Gentoo</td>\n",
       "      <td>47.2</td>\n",
       "      <td>13.7</td>\n",
       "      <td>214.0</td>\n",
       "      <td>4925.0</td>\n",
       "    </tr>\n",
       "    <tr>\n",
       "      <th>302</th>\n",
       "      <td>Gentoo</td>\n",
       "      <td>46.8</td>\n",
       "      <td>14.3</td>\n",
       "      <td>215.0</td>\n",
       "      <td>4850.0</td>\n",
       "    </tr>\n",
       "    <tr>\n",
       "      <th>303</th>\n",
       "      <td>Gentoo</td>\n",
       "      <td>50.4</td>\n",
       "      <td>15.7</td>\n",
       "      <td>222.0</td>\n",
       "      <td>5750.0</td>\n",
       "    </tr>\n",
       "    <tr>\n",
       "      <th>304</th>\n",
       "      <td>Gentoo</td>\n",
       "      <td>45.2</td>\n",
       "      <td>14.8</td>\n",
       "      <td>212.0</td>\n",
       "      <td>5200.0</td>\n",
       "    </tr>\n",
       "    <tr>\n",
       "      <th>305</th>\n",
       "      <td>Gentoo</td>\n",
       "      <td>49.9</td>\n",
       "      <td>16.1</td>\n",
       "      <td>213.0</td>\n",
       "      <td>5400.0</td>\n",
       "    </tr>\n",
       "  </tbody>\n",
       "</table>\n",
       "<p>306 rows × 5 columns</p>\n",
       "</div>"
      ],
      "text/plain": [
       "    species  bill_length_mm  bill_depth_mm  flipper_length_mm  body_mass_g\n",
       "0    Adelie            39.1           18.7              181.0       3750.0\n",
       "1    Adelie            39.5           17.4              186.0       3800.0\n",
       "2    Adelie            40.3           18.0              195.0       3250.0\n",
       "3    Adelie            36.7           19.3              193.0       3450.0\n",
       "4    Adelie            39.3           20.6              190.0       3650.0\n",
       "..      ...             ...            ...                ...          ...\n",
       "301  Gentoo            47.2           13.7              214.0       4925.0\n",
       "302  Gentoo            46.8           14.3              215.0       4850.0\n",
       "303  Gentoo            50.4           15.7              222.0       5750.0\n",
       "304  Gentoo            45.2           14.8              212.0       5200.0\n",
       "305  Gentoo            49.9           16.1              213.0       5400.0\n",
       "\n",
       "[306 rows x 5 columns]"
      ]
     },
     "execution_count": 4,
     "metadata": {},
     "output_type": "execute_result"
    }
   ],
   "source": [
    "df = pd.read_csv('penguins_cluster.csv')\n",
    "df"
   ]
  },
  {
   "cell_type": "markdown",
   "id": "d074caef",
   "metadata": {},
   "source": [
    "#### 2. Show the first 10 rows of the data"
   ]
  },
  {
   "cell_type": "code",
   "execution_count": 5,
   "id": "a711600e",
   "metadata": {},
   "outputs": [
    {
     "data": {
      "text/html": [
       "<div>\n",
       "<style scoped>\n",
       "    .dataframe tbody tr th:only-of-type {\n",
       "        vertical-align: middle;\n",
       "    }\n",
       "\n",
       "    .dataframe tbody tr th {\n",
       "        vertical-align: top;\n",
       "    }\n",
       "\n",
       "    .dataframe thead th {\n",
       "        text-align: right;\n",
       "    }\n",
       "</style>\n",
       "<table border=\"1\" class=\"dataframe\">\n",
       "  <thead>\n",
       "    <tr style=\"text-align: right;\">\n",
       "      <th></th>\n",
       "      <th>species</th>\n",
       "      <th>bill_length_mm</th>\n",
       "      <th>bill_depth_mm</th>\n",
       "      <th>flipper_length_mm</th>\n",
       "      <th>body_mass_g</th>\n",
       "    </tr>\n",
       "  </thead>\n",
       "  <tbody>\n",
       "    <tr>\n",
       "      <th>0</th>\n",
       "      <td>Adelie</td>\n",
       "      <td>39.1</td>\n",
       "      <td>18.7</td>\n",
       "      <td>181.0</td>\n",
       "      <td>3750.0</td>\n",
       "    </tr>\n",
       "    <tr>\n",
       "      <th>1</th>\n",
       "      <td>Adelie</td>\n",
       "      <td>39.5</td>\n",
       "      <td>17.4</td>\n",
       "      <td>186.0</td>\n",
       "      <td>3800.0</td>\n",
       "    </tr>\n",
       "    <tr>\n",
       "      <th>2</th>\n",
       "      <td>Adelie</td>\n",
       "      <td>40.3</td>\n",
       "      <td>18.0</td>\n",
       "      <td>195.0</td>\n",
       "      <td>3250.0</td>\n",
       "    </tr>\n",
       "    <tr>\n",
       "      <th>3</th>\n",
       "      <td>Adelie</td>\n",
       "      <td>36.7</td>\n",
       "      <td>19.3</td>\n",
       "      <td>193.0</td>\n",
       "      <td>3450.0</td>\n",
       "    </tr>\n",
       "    <tr>\n",
       "      <th>4</th>\n",
       "      <td>Adelie</td>\n",
       "      <td>39.3</td>\n",
       "      <td>20.6</td>\n",
       "      <td>190.0</td>\n",
       "      <td>3650.0</td>\n",
       "    </tr>\n",
       "    <tr>\n",
       "      <th>5</th>\n",
       "      <td>Adelie</td>\n",
       "      <td>38.9</td>\n",
       "      <td>17.8</td>\n",
       "      <td>181.0</td>\n",
       "      <td>3625.0</td>\n",
       "    </tr>\n",
       "    <tr>\n",
       "      <th>6</th>\n",
       "      <td>Adelie</td>\n",
       "      <td>39.2</td>\n",
       "      <td>19.6</td>\n",
       "      <td>195.0</td>\n",
       "      <td>4675.0</td>\n",
       "    </tr>\n",
       "    <tr>\n",
       "      <th>7</th>\n",
       "      <td>Adelie</td>\n",
       "      <td>41.1</td>\n",
       "      <td>17.6</td>\n",
       "      <td>182.0</td>\n",
       "      <td>3200.0</td>\n",
       "    </tr>\n",
       "    <tr>\n",
       "      <th>8</th>\n",
       "      <td>Adelie</td>\n",
       "      <td>38.6</td>\n",
       "      <td>21.2</td>\n",
       "      <td>191.0</td>\n",
       "      <td>3800.0</td>\n",
       "    </tr>\n",
       "    <tr>\n",
       "      <th>9</th>\n",
       "      <td>Adelie</td>\n",
       "      <td>34.6</td>\n",
       "      <td>21.1</td>\n",
       "      <td>198.0</td>\n",
       "      <td>4400.0</td>\n",
       "    </tr>\n",
       "  </tbody>\n",
       "</table>\n",
       "</div>"
      ],
      "text/plain": [
       "  species  bill_length_mm  bill_depth_mm  flipper_length_mm  body_mass_g\n",
       "0  Adelie            39.1           18.7              181.0       3750.0\n",
       "1  Adelie            39.5           17.4              186.0       3800.0\n",
       "2  Adelie            40.3           18.0              195.0       3250.0\n",
       "3  Adelie            36.7           19.3              193.0       3450.0\n",
       "4  Adelie            39.3           20.6              190.0       3650.0\n",
       "5  Adelie            38.9           17.8              181.0       3625.0\n",
       "6  Adelie            39.2           19.6              195.0       4675.0\n",
       "7  Adelie            41.1           17.6              182.0       3200.0\n",
       "8  Adelie            38.6           21.2              191.0       3800.0\n",
       "9  Adelie            34.6           21.1              198.0       4400.0"
      ]
     },
     "execution_count": 5,
     "metadata": {},
     "output_type": "execute_result"
    }
   ],
   "source": [
    "df.head(10)"
   ]
  },
  {
   "cell_type": "code",
   "execution_count": null,
   "id": "274ebed7",
   "metadata": {},
   "outputs": [],
   "source": [
    "df['species'].unique"
   ]
  },
  {
   "cell_type": "markdown",
   "id": "fb83ef28",
   "metadata": {},
   "source": [
    "#### 3. We are going work with the numerical data. Filter out the species column, name the dataset df_num and show the dataset."
   ]
  },
  {
   "cell_type": "code",
   "execution_count": null,
   "id": "5ba7aa9f",
   "metadata": {},
   "outputs": [],
   "source": [
    "df_num = "
   ]
  },
  {
   "cell_type": "markdown",
   "id": "9ee64608",
   "metadata": {},
   "source": [
    "#### 4. Use the `describe()` function to see if the variables in the data set have large differences between their ranges."
   ]
  },
  {
   "cell_type": "code",
   "execution_count": null,
   "id": "735fe08b",
   "metadata": {},
   "outputs": [],
   "source": []
  },
  {
   "cell_type": "markdown",
   "id": "11ba22d3",
   "metadata": {},
   "source": [
    "#### 5. Do you see any large difference? If yes which features? \n"
   ]
  },
  {
   "cell_type": "markdown",
   "id": "2aa75d71",
   "metadata": {},
   "source": [
    "#### 6. If you think one or more features may dominate over the other ones, you need to standardize the data. Name the scaled data as penguins_scaled.\n",
    "\n",
    "**Feature Scaling is an important technique that mostly comes to the picture during pre-processing step in Machine Learning.**\n",
    " \n",
    "We use feature scaling when the variables in the data set have large differences in order of magnitude, or when they are similar in that sense but measured with different metrics such as meters vs kilometers, etc. \n",
    "These differences cause problems for many models. For example, if one of the features has a way higher order of magnitude, this particular feature will dominate over the other ones.\n",
    "\n",
    "In order to avoid this issue, we will perform feature scaling which brings all of the measurements into a similar range of values. There are different approaches to feature scaling:\n",
    "- normalization - it maps the data in the range between 0 and 1 (the minimal data point will be mapped to 0 and the maximal one to 1). Note that if the data consist of any outliers it will influence the new distribution heavily.\n",
    "- standarization - it maps the data in a way that all the new values will oscilate around 0 with a unit standard deviation. In this case, the mapped values are not restricted to a particular range. Standarization is widely used when the data has a gaussian distribution.\n",
    "\n",
    "Imagine you have a 2 dimensional dataset representing the body measurements of a group of adult people: height in meters and weight in kg. The height ranges respectively from 1 to 2 and weight from 40 to 200. It does not matter which model you use on this dataset, the weight feature will dominate over the height and it will contribute more to the computation.  \n",
    "\n",
    "In python we can use scikit-learn to scale the data."
   ]
  },
  {
   "cell_type": "code",
   "execution_count": null,
   "id": "07ebdd23",
   "metadata": {},
   "outputs": [],
   "source": [
    "scaler = StandardScaler()\n",
    "scaler.fit(df_num)\n",
    "df_num_scaled = scaler.transform(df_num)\n",
    "df_num_scaled"
   ]
  },
  {
   "cell_type": "markdown",
   "id": "7948c2f0",
   "metadata": {},
   "source": [
    "#### 7. The standardized data is an array. Please convert the array to a pandas dataframe, Name the data df_penguins. (Hint: columns = df_num.columns) "
   ]
  },
  {
   "cell_type": "code",
   "execution_count": null,
   "id": "58f76534",
   "metadata": {},
   "outputs": [],
   "source": [
    "df_penguins = "
   ]
  },
  {
   "cell_type": "markdown",
   "id": "10b0a04d",
   "metadata": {},
   "source": [
    "#### 8. Check how does the scaled data look like."
   ]
  },
  {
   "cell_type": "code",
   "execution_count": null,
   "id": "c7d9caa8",
   "metadata": {},
   "outputs": [],
   "source": []
  },
  {
   "cell_type": "markdown",
   "id": "c4508143",
   "metadata": {},
   "source": [
    "#### 9. Let's imagine that we don't know anything about the data and we assume there might be only two groups of penguins."
   ]
  },
  {
   "cell_type": "code",
   "execution_count": null,
   "id": "4bf66a0a",
   "metadata": {},
   "outputs": [],
   "source": [
    "kmeans = KMeans(n_clusters=2, random_state=42)\n",
    "kmeans.fit(df_penguins)"
   ]
  },
  {
   "cell_type": "code",
   "execution_count": null,
   "id": "110d0129",
   "metadata": {},
   "outputs": [],
   "source": []
  },
  {
   "cell_type": "markdown",
   "id": "340e8fec",
   "metadata": {},
   "source": [
    "#### 10. Let's check which labels we have"
   ]
  },
  {
   "cell_type": "code",
   "execution_count": null,
   "id": "eaaaa560",
   "metadata": {},
   "outputs": [],
   "source": [
    "# assign a cluster to each example\n",
    "clusters = kmeans.predict(df_penguins)\n",
    "clusters"
   ]
  },
  {
   "cell_type": "code",
   "execution_count": null,
   "id": "db77cbac",
   "metadata": {},
   "outputs": [],
   "source": [
    "\n",
    "# retrieve unique clusters\n",
    "labels = np.unique(clusters)\n"
   ]
  },
  {
   "cell_type": "code",
   "execution_count": null,
   "id": "ba82ca9c",
   "metadata": {},
   "outputs": [],
   "source": [
    "pd.Series(clusters).value_counts().sort_index()"
   ]
  },
  {
   "cell_type": "markdown",
   "id": "9494fe2c",
   "metadata": {},
   "source": [
    "#### 11. Now we are adding the defined clusters to the dataframe"
   ]
  },
  {
   "cell_type": "code",
   "execution_count": null,
   "id": "f1c292a1",
   "metadata": {},
   "outputs": [],
   "source": []
  },
  {
   "cell_type": "markdown",
   "id": "5d993d82",
   "metadata": {},
   "source": [
    "#### 12. Add real penguins species to the dataframe again "
   ]
  },
  {
   "cell_type": "code",
   "execution_count": null,
   "id": "80edb303",
   "metadata": {},
   "outputs": [],
   "source": []
  },
  {
   "cell_type": "markdown",
   "id": "2a9f42c9",
   "metadata": {},
   "source": [
    "#### 13. Let's check the mapping between the species and clusters"
   ]
  },
  {
   "cell_type": "code",
   "execution_count": null,
   "id": "8cb8b0fb",
   "metadata": {},
   "outputs": [],
   "source": []
  },
  {
   "cell_type": "code",
   "execution_count": null,
   "id": "26b4b7a7",
   "metadata": {},
   "outputs": [],
   "source": []
  },
  {
   "cell_type": "code",
   "execution_count": null,
   "id": "86c29f24",
   "metadata": {},
   "outputs": [],
   "source": []
  },
  {
   "cell_type": "code",
   "execution_count": null,
   "id": "a95ff4cc",
   "metadata": {},
   "outputs": [],
   "source": []
  },
  {
   "cell_type": "markdown",
   "id": "2ce580ac",
   "metadata": {},
   "source": [
    "#### 14. Let's use elbow method to see how many clusters are recommended for this dataset (we know that there are 3 species in the dataset)\n",
    "\n",
    "**The Elbow Method**\n",
    "\n",
    "The elbow method is one of the most well-known methods in machine learning and could be also used for finding the optimal number of clusters. With calculating the **Within-Cluster-Sum of Squared Errors ([WSS](https://medium.com/analytics-vidhya/how-to-determine-the-optimal-k-for-k-means-708505d204eb))** for different values of k we can choose the k for which WSS first starts to decrease. In a plot this will show an elbow joint.\n"
   ]
  },
  {
   "cell_type": "code",
   "execution_count": null,
   "id": "aa879c5a",
   "metadata": {},
   "outputs": [],
   "source": [
    "K = range(2, 10) #let's give it a range\n",
    "inertia = []\n",
    "\n",
    "for k in K:\n",
    "    kmeans = KMeans(n_clusters=k,\n",
    "                    random_state=1234)\n",
    "    kmeans.fit(df_penguins)\n",
    "    inertia.append(kmeans.inertia_)\n",
    "\n",
    "plt.figure(figsize=(16,8))\n",
    "plt.plot(K, inertia, 'bx-') # shows the x symbols on the graph\n",
    "plt.xlabel('k')\n",
    "plt.ylabel('inertia')\n",
    "plt.xticks(np.arange(min(K), max(K), 1.0))\n",
    "plt.title('Elbow Method showing the optimal k')"
   ]
  },
  {
   "cell_type": "markdown",
   "id": "04e68b30",
   "metadata": {},
   "source": [
    "We can see a light elbow for k = 3 which fits our knowledge of the dataset."
   ]
  },
  {
   "cell_type": "markdown",
   "id": "ecfd5549",
   "metadata": {},
   "source": [
    "#### 15. Repeat k-means clustering with k = 3"
   ]
  },
  {
   "cell_type": "code",
   "execution_count": null,
   "id": "8f79d243",
   "metadata": {},
   "outputs": [],
   "source": [
    "kmeans = KMeans(n_clusters=3, random_state=42)\n",
    "kmeans.fit(df_penguins)\n",
    "\n",
    "clusters = kmeans.predict(df_penguins)\n",
    "df_clustered_3 = df_penguins.copy() \n",
    "df_clustered_3[\"cluster\"] = clusters\n",
    "df_clustered_3"
   ]
  },
  {
   "cell_type": "code",
   "execution_count": null,
   "id": "88316764",
   "metadata": {},
   "outputs": [],
   "source": [
    "df_clustered_3['species'] = df[['species']]\n",
    "df_clustered_3"
   ]
  },
  {
   "cell_type": "code",
   "execution_count": null,
   "id": "4f87712f",
   "metadata": {},
   "outputs": [],
   "source": [
    "adelie_3 = df_clustered_3.loc[df_clustered_3['species'] == 'Adelie']\n",
    "adelie['cluster'].unique() # which label got Adelie?"
   ]
  },
  {
   "cell_type": "code",
   "execution_count": null,
   "id": "65e8254f",
   "metadata": {},
   "outputs": [],
   "source": []
  },
  {
   "cell_type": "code",
   "execution_count": null,
   "id": "6130bb33",
   "metadata": {},
   "outputs": [],
   "source": []
  }
 ],
 "metadata": {
  "kernelspec": {
   "display_name": "Python 3 (ipykernel)",
   "language": "python",
   "name": "python3"
  },
  "language_info": {
   "codemirror_mode": {
    "name": "ipython",
    "version": 3
   },
   "file_extension": ".py",
   "mimetype": "text/x-python",
   "name": "python",
   "nbconvert_exporter": "python",
   "pygments_lexer": "ipython3",
   "version": "3.11.4"
  }
 },
 "nbformat": 4,
 "nbformat_minor": 5
}
