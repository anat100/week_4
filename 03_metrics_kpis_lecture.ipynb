{
 "cells": [
  {
   "cell_type": "markdown",
   "id": "7cf33f82",
   "metadata": {},
   "source": [
    "# Metrics\n",
    "## Key Concepts\n",
    "\n",
    "`Metrics` is a very wide term used in many different occassions to provide a measure for something. We usually use them for comparing and tracking purposes. Today, we will make a distinction between business metrics and error metrics, both are widely used in the data field.\n",
    "\n",
    "concept   |  description\n",
    "---          |---\n",
    "`metric`       |     the variable that we are trying to understand and predict\n",
    "`KPI`      |     Key Performance Indicator\n",
    "`error metric`    |     the variables influencing the dependent variable\n",
    "`MSE`    |     Mean Square Error\n",
    "`RMSE`        |     Root Mean Square Error\n",
    "`R2`        |    R squared metric\n",
    "`residuals`    |   differenece between real and estimated value\n",
    "\n",
    "\n",
    "\n",
    "## KPIs\n",
    "Key Performance Indicators (KPIs) are metrics, but not all the metrics are KPIs. Because of the fact that we can't put the `=` sign between these two, it's important to understand what both of them represent.\n",
    "\n",
    "KPIs are metrics that are used to measure business critical initiatives, goals and objectives. They are agreed on by the team (a metric that is a KPI in your company doesn't need to be a KPI in a different company). A KPI does not only clearly explain how to calculate it but also includes information about the planned target (so the team / company can check if they are where they want to be).\n",
    "\n",
    "- Customer-focused KPIs generally center on per-customer efficiency, customer satisfaction, and customer retention.\n",
    "- Process-focused KPIs aim to measure and monitor operational performance across the organization.\n",
    "- Generally speaking, businesses measure and track KPIs through business analytics software and reporting tools.\n",
    "- General types of KPIs: raw numbers (don't tell as much of a story), progress, change\n",
    "- 4 attributes of KPIs\n",
    "  - Measure: what are you measuring, be as specific as possible i.e. new customers vs new customers this quarter\n",
    "  - Target: our goal -> apples to apples\n",
    "  - Source: Where is the data coming from? i.e. Customer relationship management (**CRM**) is a process in  which a business or other organization administers its interactions with customers, typically using data analysis to study large amounts of  information\n",
    "  - Frequency: How often are you reporting on this KPI?\n",
    "\n",
    "\n",
    "Examples of metrics that could be KPIs:\n",
    "- Growth in Revenue\n",
    "- Net Promoter Score (NPS)\n",
    "- Number of Qualified Leads (per period)\n",
    "- Number of New Customers (per period)\n",
    "- Customer Life Time Value (LTV)\n",
    "- Average Support Resolution Time "
   ]
  },
  {
   "cell_type": "markdown",
   "id": "20e4f92f",
   "metadata": {},
   "source": [
    "## Metrics used in research\n",
    "\n",
    "Metrics is not a term that is only reserved for the business world. Metrics are widely used in forecasting/estimation models to provide the error of their performance (so we know which models are better). Building such models is primarly a responsibility of Data Scientists. However, there is no clear division between Data Science and Data Analytics (and also other data related roles) with respect to metrics. Data Analysts will work on such problems as well. One of the most common examples is probably the Linear Regression model, which is the topic of the next encounter.\n",
    "\n",
    "Data Science deals with many different types of problems:\n",
    "\n",
    "![image.png](attachment:image.png)\n",
    "\n",
    "Depending on the problem we are working on there will be a different set of possible metrics we could use to evaluate the performance of our model (for example classification metrics will have different purpose from regression metrics). Also, while each metric is focusing on providing slightly different information, it’s important to understand what we want to optimize for so we could choose the most suitable error metric.\n",
    "\n",
    "As our next step will be learning about Linear Regression (which is one of the most popular regression models), let’s explore some of the regression error metrics a bit more."
   ]
  },
  {
   "cell_type": "markdown",
   "id": "dcd09d50",
   "metadata": {},
   "source": [
    "### import"
   ]
  },
  {
   "cell_type": "code",
   "execution_count": 1,
   "id": "06e8cdca",
   "metadata": {},
   "outputs": [],
   "source": [
    "import statsmodels.tools.eval_measures as sm\n",
    "import pandas as pd\n",
    "import numpy as np\n",
    "import seaborn as sns\n",
    "import matplotlib.pyplot as plt"
   ]
  },
  {
   "cell_type": "markdown",
   "id": "91b3c1ec",
   "metadata": {},
   "source": [
    "### Penguins dataset\n",
    "\n",
    "Calculate metrics describing penguins:\n",
    "- average bill length for different species of the penguins\n",
    "- range of the body mass in grams on different islands\n",
    "- popularity of penguins species\n",
    "\n",
    "Are there any assumptions that we need to take into account?"
   ]
  },
  {
   "cell_type": "code",
   "execution_count": 2,
   "id": "15afe407",
   "metadata": {},
   "outputs": [
    {
     "data": {
      "text/html": [
       "<div>\n",
       "<style scoped>\n",
       "    .dataframe tbody tr th:only-of-type {\n",
       "        vertical-align: middle;\n",
       "    }\n",
       "\n",
       "    .dataframe tbody tr th {\n",
       "        vertical-align: top;\n",
       "    }\n",
       "\n",
       "    .dataframe thead th {\n",
       "        text-align: right;\n",
       "    }\n",
       "</style>\n",
       "<table border=\"1\" class=\"dataframe\">\n",
       "  <thead>\n",
       "    <tr style=\"text-align: right;\">\n",
       "      <th></th>\n",
       "      <th>species</th>\n",
       "      <th>island</th>\n",
       "      <th>bill_length_mm</th>\n",
       "      <th>bill_depth_mm</th>\n",
       "      <th>flipper_length_mm</th>\n",
       "      <th>body_mass_g</th>\n",
       "      <th>sex</th>\n",
       "    </tr>\n",
       "  </thead>\n",
       "  <tbody>\n",
       "    <tr>\n",
       "      <th>0</th>\n",
       "      <td>Adelie</td>\n",
       "      <td>Torgersen</td>\n",
       "      <td>39.1</td>\n",
       "      <td>18.7</td>\n",
       "      <td>181.0</td>\n",
       "      <td>3750.0</td>\n",
       "      <td>Male</td>\n",
       "    </tr>\n",
       "    <tr>\n",
       "      <th>1</th>\n",
       "      <td>Adelie</td>\n",
       "      <td>Torgersen</td>\n",
       "      <td>39.5</td>\n",
       "      <td>17.4</td>\n",
       "      <td>186.0</td>\n",
       "      <td>3800.0</td>\n",
       "      <td>Female</td>\n",
       "    </tr>\n",
       "    <tr>\n",
       "      <th>2</th>\n",
       "      <td>Adelie</td>\n",
       "      <td>Torgersen</td>\n",
       "      <td>40.3</td>\n",
       "      <td>18.0</td>\n",
       "      <td>195.0</td>\n",
       "      <td>3250.0</td>\n",
       "      <td>Female</td>\n",
       "    </tr>\n",
       "    <tr>\n",
       "      <th>3</th>\n",
       "      <td>Adelie</td>\n",
       "      <td>Torgersen</td>\n",
       "      <td>NaN</td>\n",
       "      <td>NaN</td>\n",
       "      <td>NaN</td>\n",
       "      <td>NaN</td>\n",
       "      <td>NaN</td>\n",
       "    </tr>\n",
       "    <tr>\n",
       "      <th>4</th>\n",
       "      <td>Adelie</td>\n",
       "      <td>Torgersen</td>\n",
       "      <td>36.7</td>\n",
       "      <td>19.3</td>\n",
       "      <td>193.0</td>\n",
       "      <td>3450.0</td>\n",
       "      <td>Female</td>\n",
       "    </tr>\n",
       "  </tbody>\n",
       "</table>\n",
       "</div>"
      ],
      "text/plain": [
       "  species     island  bill_length_mm  bill_depth_mm  flipper_length_mm  \\\n",
       "0  Adelie  Torgersen            39.1           18.7              181.0   \n",
       "1  Adelie  Torgersen            39.5           17.4              186.0   \n",
       "2  Adelie  Torgersen            40.3           18.0              195.0   \n",
       "3  Adelie  Torgersen             NaN            NaN                NaN   \n",
       "4  Adelie  Torgersen            36.7           19.3              193.0   \n",
       "\n",
       "   body_mass_g     sex  \n",
       "0       3750.0    Male  \n",
       "1       3800.0  Female  \n",
       "2       3250.0  Female  \n",
       "3          NaN     NaN  \n",
       "4       3450.0  Female  "
      ]
     },
     "execution_count": 2,
     "metadata": {},
     "output_type": "execute_result"
    }
   ],
   "source": [
    "penguins = sns.load_dataset(name='penguins')\n",
    "penguins.head()"
   ]
  },
  {
   "cell_type": "code",
   "execution_count": 3,
   "id": "d3bb3580",
   "metadata": {},
   "outputs": [
    {
     "data": {
      "text/plain": [
       "species\n",
       "Adelie       38.791391\n",
       "Chinstrap    48.833824\n",
       "Gentoo       47.504878\n",
       "Name: bill_length_mm, dtype: float64"
      ]
     },
     "execution_count": 3,
     "metadata": {},
     "output_type": "execute_result"
    }
   ],
   "source": [
    "# average bill length for different species of the penguins\n",
    "penguins.groupby(by='species')['bill_length_mm'].mean()"
   ]
  },
  {
   "cell_type": "code",
   "execution_count": 4,
   "id": "11950e28",
   "metadata": {},
   "outputs": [
    {
     "data": {
      "text/plain": [
       "island\n",
       "Biscoe       2850.0\n",
       "Dream        2700.0\n",
       "Torgersen    2900.0\n",
       "Name: body_mass_g, dtype: float64"
      ]
     },
     "execution_count": 4,
     "metadata": {},
     "output_type": "execute_result"
    }
   ],
   "source": [
    "# range of the body mass in grams on different islands\n",
    "penguins.groupby(by='island')['body_mass_g'].min()"
   ]
  },
  {
   "cell_type": "code",
   "execution_count": 5,
   "id": "f20704c9",
   "metadata": {},
   "outputs": [
    {
     "data": {
      "text/plain": [
       "island\n",
       "Biscoe       6300.0\n",
       "Dream        4800.0\n",
       "Torgersen    4700.0\n",
       "Name: body_mass_g, dtype: float64"
      ]
     },
     "execution_count": 5,
     "metadata": {},
     "output_type": "execute_result"
    }
   ],
   "source": [
    "penguins.groupby(by='island')['body_mass_g'].max()"
   ]
  },
  {
   "cell_type": "code",
   "execution_count": 6,
   "id": "8fbbbf6d",
   "metadata": {},
   "outputs": [
    {
     "data": {
      "text/html": [
       "<div>\n",
       "<style scoped>\n",
       "    .dataframe tbody tr th:only-of-type {\n",
       "        vertical-align: middle;\n",
       "    }\n",
       "\n",
       "    .dataframe tbody tr th {\n",
       "        vertical-align: top;\n",
       "    }\n",
       "\n",
       "    .dataframe thead th {\n",
       "        text-align: right;\n",
       "    }\n",
       "</style>\n",
       "<table border=\"1\" class=\"dataframe\">\n",
       "  <thead>\n",
       "    <tr style=\"text-align: right;\">\n",
       "      <th></th>\n",
       "      <th>bill_length_mm</th>\n",
       "      <th>bill_depth_mm</th>\n",
       "      <th>flipper_length_mm</th>\n",
       "      <th>body_mass_g</th>\n",
       "    </tr>\n",
       "  </thead>\n",
       "  <tbody>\n",
       "    <tr>\n",
       "      <th>count</th>\n",
       "      <td>342.000000</td>\n",
       "      <td>342.000000</td>\n",
       "      <td>342.000000</td>\n",
       "      <td>342.000000</td>\n",
       "    </tr>\n",
       "    <tr>\n",
       "      <th>mean</th>\n",
       "      <td>43.921930</td>\n",
       "      <td>17.151170</td>\n",
       "      <td>200.915205</td>\n",
       "      <td>4201.754386</td>\n",
       "    </tr>\n",
       "    <tr>\n",
       "      <th>std</th>\n",
       "      <td>5.459584</td>\n",
       "      <td>1.974793</td>\n",
       "      <td>14.061714</td>\n",
       "      <td>801.954536</td>\n",
       "    </tr>\n",
       "    <tr>\n",
       "      <th>min</th>\n",
       "      <td>32.100000</td>\n",
       "      <td>13.100000</td>\n",
       "      <td>172.000000</td>\n",
       "      <td>2700.000000</td>\n",
       "    </tr>\n",
       "    <tr>\n",
       "      <th>25%</th>\n",
       "      <td>39.225000</td>\n",
       "      <td>15.600000</td>\n",
       "      <td>190.000000</td>\n",
       "      <td>3550.000000</td>\n",
       "    </tr>\n",
       "    <tr>\n",
       "      <th>50%</th>\n",
       "      <td>44.450000</td>\n",
       "      <td>17.300000</td>\n",
       "      <td>197.000000</td>\n",
       "      <td>4050.000000</td>\n",
       "    </tr>\n",
       "    <tr>\n",
       "      <th>75%</th>\n",
       "      <td>48.500000</td>\n",
       "      <td>18.700000</td>\n",
       "      <td>213.000000</td>\n",
       "      <td>4750.000000</td>\n",
       "    </tr>\n",
       "    <tr>\n",
       "      <th>max</th>\n",
       "      <td>59.600000</td>\n",
       "      <td>21.500000</td>\n",
       "      <td>231.000000</td>\n",
       "      <td>6300.000000</td>\n",
       "    </tr>\n",
       "  </tbody>\n",
       "</table>\n",
       "</div>"
      ],
      "text/plain": [
       "       bill_length_mm  bill_depth_mm  flipper_length_mm  body_mass_g\n",
       "count      342.000000     342.000000         342.000000   342.000000\n",
       "mean        43.921930      17.151170         200.915205  4201.754386\n",
       "std          5.459584       1.974793          14.061714   801.954536\n",
       "min         32.100000      13.100000         172.000000  2700.000000\n",
       "25%         39.225000      15.600000         190.000000  3550.000000\n",
       "50%         44.450000      17.300000         197.000000  4050.000000\n",
       "75%         48.500000      18.700000         213.000000  4750.000000\n",
       "max         59.600000      21.500000         231.000000  6300.000000"
      ]
     },
     "execution_count": 6,
     "metadata": {},
     "output_type": "execute_result"
    }
   ],
   "source": [
    "penguins.describe()"
   ]
  },
  {
   "cell_type": "code",
   "execution_count": 7,
   "id": "97f41174",
   "metadata": {},
   "outputs": [
    {
     "data": {
      "text/plain": [
       "species\n",
       "Adelie       0.441860\n",
       "Chinstrap    0.197674\n",
       "Gentoo       0.360465\n",
       "Name: island, dtype: float64"
      ]
     },
     "execution_count": 7,
     "metadata": {},
     "output_type": "execute_result"
    }
   ],
   "source": [
    "# popularity of penguins species on diff islands\n",
    "penguins.groupby(by='species')['island'].count() / len(penguins)"
   ]
  },
  {
   "cell_type": "markdown",
   "id": "fb3d3b1b",
   "metadata": {},
   "source": [
    "### Math Jargon\n",
    "\n",
    "$y$ - the actual value of the metric is question <br>\n",
    "$\\widehat{y}$ - also called y hat is in our case the estimation, forecast or prediction <br>\n",
    "$\\bar{y}$ - average of actual values"
   ]
  },
  {
   "cell_type": "markdown",
   "id": "a90883e7",
   "metadata": {},
   "source": [
    "## Regression error metrics\n",
    "\n",
    "Regression analysis is a process used to study sets of data in order to determine whether any relationship(s) exist. It can be thought of as a best guess at the trend that the data follows, and can be useful for making predictions about the data.\n",
    "\n",
    "Regression error metrics will try to compare the estimations and real data points. The most popular are: MSE, RMSE, MAE, etc.\n",
    "\n",
    "\n",
    "### MSE\n",
    "\n",
    "One of the most common **loss functions** that can capture the **error** of the model is **MSE (Mean Squared Error)**:\n",
    "\n",
    "\n",
    "$$ MSE = \\frac{1}{N}\\sum_{i=1}^{n}(\\widehat{y}_i - y_i)^2 $$ \n",
    " \n",
    "Notice that in the MSE equation we square the difference (i.e. error) between the predicted and the actual value, since we only care about the magnitude of the error and not its sign. Some properties of MSE:\n",
    "- we will penalize bigger differences between real and estimated values\n",
    "- the bigger MSE is, the worse your model is performing\n",
    "- MSE can't be represented by a negative number\n",
    "- there is no upper range for MSE  \n",
    "- you can only compare MSE for different models working on the same dataset\n",
    "- the units of MSE are squared units\n",
    "\n",
    "\n",
    "### RMSE\n",
    "**RMSE (Root Mean Square Error)** is an extension of MSE:\n",
    "\n",
    "$$ RMSE = \\sqrt{\\frac{1}{N}\\sum_{i=1}^{n}(\\widehat{y}_i - y_i)^2} $$ \n",
    "\n",
    "Properties of RMSE are very similar to MSE besides the units part - the units of RMSE are the same as the units of the value we are trying to estimate.\n",
    "\n",
    "### R2\n",
    "\n",
    "**Coefficient of Determination**, denoted by $ R^2 $ (R squared) can be defined as follows:\n",
    "\n",
    "$$ R^2 = 1 - \\frac{SSE}{SS_{total}} $$\n",
    "\n",
    "where\n",
    "\n",
    "$$ SSE = \\sum_{i=1}^{n}(\\widehat{y}_i - y_i)^2 $$ \n",
    "\n",
    "$$ SS_{total} = \\sum_{i=1}^{n}(\\bar{y}_i - y_i)^2  $$\n",
    "\n",
    "One can interpret this equation as a comparison of the model to the average value of the response variable: The value of $ R^2 $ has a maximum value of one. If we get an $ R^2 $ of zero, that means that the model is no better than a simple average over all points. On the other hand, if the value of $ R^2 $ is equal to one, that means that model has a loss of zero, i.e. estimates the data points perfectly or a **perfect fit**!\n"
   ]
  },
  {
   "cell_type": "markdown",
   "id": "6b050626",
   "metadata": {},
   "source": [
    "## statsmodels\n",
    "\n",
    "How can this be implemented using python? The two main packages for use cases are scikit-learn and statsmodels. Statsmodels is a Python package that provides functions for the estimation of many different statistical models, as well as for conducting statistical tests, and statistical data exploration. An extensive list of result statistics are available for each estimator. The results are tested against existing statistical packages to ensure that they are correct. The package is released under the open source Modified BSD (3-clause) license. The online documentation is hosted at [statsmodels.org](statsmodels.org).\n",
    "\n",
    "The package can be easily installed using pip:\n",
    "\n",
    "```\n",
    "pip install statsmodels\n",
    "```\n"
   ]
  },
  {
   "cell_type": "code",
   "execution_count": 8,
   "id": "b9b3e013",
   "metadata": {},
   "outputs": [],
   "source": [
    "sales_dict_forecasts = {'month':['jan','feb','march','april','may','june'],\n",
    "                         'sales':[25,34,49,50,66,74]}"
   ]
  },
  {
   "cell_type": "code",
   "execution_count": 9,
   "id": "281b5e11",
   "metadata": {},
   "outputs": [],
   "source": [
    "df_forecasts = pd.DataFrame(sales_dict_forecasts)"
   ]
  },
  {
   "cell_type": "code",
   "execution_count": 10,
   "id": "d2b99b94",
   "metadata": {},
   "outputs": [
    {
     "data": {
      "text/html": [
       "<div>\n",
       "<style scoped>\n",
       "    .dataframe tbody tr th:only-of-type {\n",
       "        vertical-align: middle;\n",
       "    }\n",
       "\n",
       "    .dataframe tbody tr th {\n",
       "        vertical-align: top;\n",
       "    }\n",
       "\n",
       "    .dataframe thead th {\n",
       "        text-align: right;\n",
       "    }\n",
       "</style>\n",
       "<table border=\"1\" class=\"dataframe\">\n",
       "  <thead>\n",
       "    <tr style=\"text-align: right;\">\n",
       "      <th></th>\n",
       "      <th>month</th>\n",
       "      <th>sales</th>\n",
       "    </tr>\n",
       "  </thead>\n",
       "  <tbody>\n",
       "    <tr>\n",
       "      <th>0</th>\n",
       "      <td>jan</td>\n",
       "      <td>25</td>\n",
       "    </tr>\n",
       "    <tr>\n",
       "      <th>1</th>\n",
       "      <td>feb</td>\n",
       "      <td>34</td>\n",
       "    </tr>\n",
       "    <tr>\n",
       "      <th>2</th>\n",
       "      <td>march</td>\n",
       "      <td>49</td>\n",
       "    </tr>\n",
       "    <tr>\n",
       "      <th>3</th>\n",
       "      <td>april</td>\n",
       "      <td>50</td>\n",
       "    </tr>\n",
       "    <tr>\n",
       "      <th>4</th>\n",
       "      <td>may</td>\n",
       "      <td>66</td>\n",
       "    </tr>\n",
       "    <tr>\n",
       "      <th>5</th>\n",
       "      <td>june</td>\n",
       "      <td>74</td>\n",
       "    </tr>\n",
       "  </tbody>\n",
       "</table>\n",
       "</div>"
      ],
      "text/plain": [
       "   month  sales\n",
       "0    jan     25\n",
       "1    feb     34\n",
       "2  march     49\n",
       "3  april     50\n",
       "4    may     66\n",
       "5   june     74"
      ]
     },
     "execution_count": 10,
     "metadata": {},
     "output_type": "execute_result"
    }
   ],
   "source": [
    "df_forecasts"
   ]
  },
  {
   "cell_type": "code",
   "execution_count": 11,
   "id": "a69b56b8",
   "metadata": {},
   "outputs": [
    {
     "data": {
      "text/html": [
       "<div>\n",
       "<style scoped>\n",
       "    .dataframe tbody tr th:only-of-type {\n",
       "        vertical-align: middle;\n",
       "    }\n",
       "\n",
       "    .dataframe tbody tr th {\n",
       "        vertical-align: top;\n",
       "    }\n",
       "\n",
       "    .dataframe thead th {\n",
       "        text-align: right;\n",
       "    }\n",
       "</style>\n",
       "<table border=\"1\" class=\"dataframe\">\n",
       "  <thead>\n",
       "    <tr style=\"text-align: right;\">\n",
       "      <th></th>\n",
       "      <th>month</th>\n",
       "      <th>sales</th>\n",
       "    </tr>\n",
       "  </thead>\n",
       "  <tbody>\n",
       "    <tr>\n",
       "      <th>0</th>\n",
       "      <td>jan</td>\n",
       "      <td>35</td>\n",
       "    </tr>\n",
       "    <tr>\n",
       "      <th>1</th>\n",
       "      <td>feb</td>\n",
       "      <td>44</td>\n",
       "    </tr>\n",
       "    <tr>\n",
       "      <th>2</th>\n",
       "      <td>march</td>\n",
       "      <td>50</td>\n",
       "    </tr>\n",
       "    <tr>\n",
       "      <th>3</th>\n",
       "      <td>april</td>\n",
       "      <td>60</td>\n",
       "    </tr>\n",
       "    <tr>\n",
       "      <th>4</th>\n",
       "      <td>may</td>\n",
       "      <td>55</td>\n",
       "    </tr>\n",
       "    <tr>\n",
       "      <th>5</th>\n",
       "      <td>june</td>\n",
       "      <td>80</td>\n",
       "    </tr>\n",
       "  </tbody>\n",
       "</table>\n",
       "</div>"
      ],
      "text/plain": [
       "   month  sales\n",
       "0    jan     35\n",
       "1    feb     44\n",
       "2  march     50\n",
       "3  april     60\n",
       "4    may     55\n",
       "5   june     80"
      ]
     },
     "execution_count": 11,
     "metadata": {},
     "output_type": "execute_result"
    }
   ],
   "source": [
    "sales_dict_actual = {'month':['jan','feb','march','april','may','june'],\n",
    "                         'sales':[35,44,50,60,55,80]}\n",
    "df_actual = pd.DataFrame(sales_dict_actual)\n",
    "df_actual"
   ]
  },
  {
   "cell_type": "code",
   "execution_count": 12,
   "id": "74dc71f3",
   "metadata": {},
   "outputs": [
    {
     "data": {
      "image/png": "[encoded data removed]",
      "text/plain": [
       "<Figure size 640x480 with 1 Axes>"
      ]
     },
     "metadata": {},
     "output_type": "display_data"
    }
   ],
   "source": [
    "sns.scatterplot(x='month', y='sales', data=df_forecasts)\n",
    "sns.scatterplot(x='month', y='sales', data=df_actual);"
   ]
  },
  {
   "cell_type": "code",
   "execution_count": 13,
   "id": "2184d8b4",
   "metadata": {},
   "outputs": [
    {
     "data": {
      "text/plain": [
       "76.33333333333333"
      ]
     },
     "execution_count": 13,
     "metadata": {},
     "output_type": "execute_result"
    }
   ],
   "source": [
    "sm.mse(df_forecasts['sales'], df_actual['sales']) # hard to interpet "
   ]
  },
  {
   "cell_type": "code",
   "execution_count": 14,
   "id": "47305d09",
   "metadata": {},
   "outputs": [
    {
     "data": {
      "text/plain": [
       "8.736894948054104"
      ]
     },
     "execution_count": 14,
     "metadata": {},
     "output_type": "execute_result"
    }
   ],
   "source": [
    "sm.rmse(df_forecasts['sales'], df_actual['sales']) # uses the same units as the dataset"
   ]
  },
  {
   "cell_type": "code",
   "execution_count": null,
   "id": "d637fb18",
   "metadata": {},
   "outputs": [],
   "source": []
  }
 ],
 "metadata": {
  "kernelspec": {
   "display_name": "Python 3 (ipykernel)",
   "language": "python",
   "name": "python3"
  },
  "language_info": {
   "codemirror_mode": {
    "name": "ipython",
    "version": 3
   },
   "file_extension": ".py",
   "mimetype": "text/x-python",
   "name": "python",
   "nbconvert_exporter": "python",
   "pygments_lexer": "ipython3",
   "version": "3.11.4"
  }
 },
 "nbformat": 4,
 "nbformat_minor": 5
}
